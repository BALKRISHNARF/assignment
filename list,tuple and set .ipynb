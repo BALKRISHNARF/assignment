{
 "cells": [
  {
   "cell_type": "code",
   "execution_count": 1,
   "id": "4a861f2b-4774-469a-b500-a4eb2db90ed3",
   "metadata": {},
   "outputs": [],
   "source": [
    "l = [1,3345,45,\"sudh\",True,5+6j,123.1235]"
   ]
  },
  {
   "cell_type": "code",
   "execution_count": 3,
   "id": "78cdb94c-7d8d-4155-a953-a33446f56d4d",
   "metadata": {},
   "outputs": [
    {
     "data": {
      "text/plain": [
       "5.0"
      ]
     },
     "execution_count": 3,
     "metadata": {},
     "output_type": "execute_result"
    }
   ],
   "source": [
    "l[5].real"
   ]
  },
  {
   "cell_type": "code",
   "execution_count": 5,
   "id": "88ef0ca7-5375-4b83-96e4-c5dbebaa631c",
   "metadata": {},
   "outputs": [
    {
     "data": {
      "text/plain": [
       "'SUDH'"
      ]
     },
     "execution_count": 5,
     "metadata": {},
     "output_type": "execute_result"
    }
   ],
   "source": [
    "l[3].upper()"
   ]
  },
  {
   "cell_type": "code",
   "execution_count": 6,
   "id": "a3e85648-f703-49c8-817f-c901eaab1fec",
   "metadata": {},
   "outputs": [
    {
     "data": {
      "text/plain": [
       "list"
      ]
     },
     "execution_count": 6,
     "metadata": {},
     "output_type": "execute_result"
    }
   ],
   "source": [
    "type(l)"
   ]
  },
  {
   "cell_type": "code",
   "execution_count": 7,
   "id": "8ffa1652-4e59-480a-8b19-8e15592db60c",
   "metadata": {
    "collapsed": true,
    "jupyter": {
     "outputs_hidden": true
    },
    "tags": []
   },
   "outputs": [
    {
     "data": {
      "text/plain": [
       "1"
      ]
     },
     "execution_count": 7,
     "metadata": {},
     "output_type": "execute_result"
    }
   ],
   "source": [
    "l[0]"
   ]
  },
  {
   "cell_type": "code",
   "execution_count": 9,
   "id": "da0540a1-0d6b-4f3a-8a60-f3d0a887a94e",
   "metadata": {},
   "outputs": [
    {
     "data": {
      "text/plain": [
       "123.1235"
      ]
     },
     "execution_count": 9,
     "metadata": {},
     "output_type": "execute_result"
    }
   ],
   "source": [
    "l[6]"
   ]
  },
  {
   "cell_type": "code",
   "execution_count": 10,
   "id": "4969a8eb-0e1d-46b8-8ecd-7eeb70a7a614",
   "metadata": {},
   "outputs": [
    {
     "ename": "IndexError",
     "evalue": "list index out of range",
     "output_type": "error",
     "traceback": [
      "\u001b[0;31m---------------------------------------------------------------------------\u001b[0m",
      "\u001b[0;31mIndexError\u001b[0m                                Traceback (most recent call last)",
      "Cell \u001b[0;32mIn[10], line 1\u001b[0m\n\u001b[0;32m----> 1\u001b[0m \u001b[43ml\u001b[49m\u001b[43m[\u001b[49m\u001b[38;5;241;43m90\u001b[39;49m\u001b[43m]\u001b[49m\n",
      "\u001b[0;31mIndexError\u001b[0m: list index out of range"
     ]
    }
   ],
   "source": [
    "l[90]"
   ]
  },
  {
   "cell_type": "code",
   "execution_count": 11,
   "id": "0e16ee66-e81b-4aa2-a0f7-6d1fee87734b",
   "metadata": {},
   "outputs": [
    {
     "data": {
      "text/plain": [
       "[1, 3345, 45, 'sudh', True, (5+6j), 123.1235]"
      ]
     },
     "execution_count": 11,
     "metadata": {},
     "output_type": "execute_result"
    }
   ],
   "source": [
    "l"
   ]
  },
  {
   "cell_type": "code",
   "execution_count": 13,
   "id": "1676da8a-1684-41cb-ba82-f0c87a217846",
   "metadata": {},
   "outputs": [
    {
     "data": {
      "text/plain": [
       "[1, 3345, 45]"
      ]
     },
     "execution_count": 13,
     "metadata": {},
     "output_type": "execute_result"
    }
   ],
   "source": [
    "l[0:3]"
   ]
  },
  {
   "cell_type": "code",
   "execution_count": 14,
   "id": "54d623af-a324-434a-938d-7bdc703b464d",
   "metadata": {},
   "outputs": [
    {
     "data": {
      "text/plain": [
       "123.1235"
      ]
     },
     "execution_count": 14,
     "metadata": {},
     "output_type": "execute_result"
    }
   ],
   "source": [
    "l[-1]"
   ]
  },
  {
   "cell_type": "code",
   "execution_count": 15,
   "id": "029fafd0-cc9d-43d9-b137-b7814a0fbfc4",
   "metadata": {},
   "outputs": [
    {
     "data": {
      "text/plain": [
       "[123.1235, (5+6j), True, 'sudh', 45, 3345, 1]"
      ]
     },
     "execution_count": 15,
     "metadata": {},
     "output_type": "execute_result"
    }
   ],
   "source": [
    "l[::-1]"
   ]
  },
  {
   "cell_type": "code",
   "execution_count": 16,
   "id": "8af25334-7350-4da2-bbce-a211ddd8f3c2",
   "metadata": {},
   "outputs": [
    {
     "data": {
      "text/plain": [
       "[1, 45, True, 123.1235]"
      ]
     },
     "execution_count": 16,
     "metadata": {},
     "output_type": "execute_result"
    }
   ],
   "source": [
    "l[::2]"
   ]
  },
  {
   "cell_type": "code",
   "execution_count": 17,
   "id": "768512e7-8fd7-4aa9-bf1e-df40dae55065",
   "metadata": {},
   "outputs": [
    {
     "data": {
      "text/plain": [
       "[1, 3345, 45, 'sudh', True, (5+6j), 123.1235]"
      ]
     },
     "execution_count": 17,
     "metadata": {},
     "output_type": "execute_result"
    }
   ],
   "source": [
    "l"
   ]
  },
  {
   "cell_type": "code",
   "execution_count": 18,
   "id": "5e468baf-556a-4712-8ba2-17f10a98d936",
   "metadata": {},
   "outputs": [],
   "source": [
    "s = \"pwskill\""
   ]
  },
  {
   "cell_type": "code",
   "execution_count": 19,
   "id": "4c2e7525-cd53-43a8-b1cc-af5dd4200826",
   "metadata": {},
   "outputs": [
    {
     "ename": "TypeError",
     "evalue": "can only concatenate list (not \"str\") to list",
     "output_type": "error",
     "traceback": [
      "\u001b[0;31m---------------------------------------------------------------------------\u001b[0m",
      "\u001b[0;31mTypeError\u001b[0m                                 Traceback (most recent call last)",
      "Cell \u001b[0;32mIn[19], line 1\u001b[0m\n\u001b[0;32m----> 1\u001b[0m \u001b[43ml\u001b[49m\u001b[38;5;241;43m+\u001b[39;49m\u001b[43ms\u001b[49m\n",
      "\u001b[0;31mTypeError\u001b[0m: can only concatenate list (not \"str\") to list"
     ]
    }
   ],
   "source": [
    "l+s"
   ]
  },
  {
   "cell_type": "code",
   "execution_count": 20,
   "id": "e49fd0ae-ab77-4bba-82de-c41d9eb8b669",
   "metadata": {},
   "outputs": [
    {
     "data": {
      "text/plain": [
       "['p',\n",
       " 'w',\n",
       " 's',\n",
       " 'k',\n",
       " 'i',\n",
       " 'l',\n",
       " 'l',\n",
       " 1,\n",
       " 3345,\n",
       " 45,\n",
       " 'sudh',\n",
       " True,\n",
       " (5+6j),\n",
       " 123.1235]"
      ]
     },
     "execution_count": 20,
     "metadata": {},
     "output_type": "execute_result"
    }
   ],
   "source": [
    "list(s) +l"
   ]
  },
  {
   "cell_type": "code",
   "execution_count": 21,
   "id": "aad0befd-7578-4129-a363-74a0941d6589",
   "metadata": {},
   "outputs": [
    {
     "data": {
      "text/plain": [
       "[1, 3345, 45, 'sudh', True, (5+6j), 123.1235]"
      ]
     },
     "execution_count": 21,
     "metadata": {},
     "output_type": "execute_result"
    }
   ],
   "source": [
    "l"
   ]
  },
  {
   "cell_type": "code",
   "execution_count": 22,
   "id": "ed2d2506-64fb-4ea0-a498-ac06a3c9a174",
   "metadata": {},
   "outputs": [
    {
     "data": {
      "text/plain": [
       "str"
      ]
     },
     "execution_count": 22,
     "metadata": {},
     "output_type": "execute_result"
    }
   ],
   "source": [
    "type(l[3])"
   ]
  },
  {
   "cell_type": "code",
   "execution_count": 23,
   "id": "5d4ef6f5-f187-426a-89d8-73980e6329ca",
   "metadata": {},
   "outputs": [
    {
     "data": {
      "text/plain": [
       "'SU'"
      ]
     },
     "execution_count": 23,
     "metadata": {},
     "output_type": "execute_result"
    }
   ],
   "source": [
    "l[3][0:2].upper()"
   ]
  },
  {
   "cell_type": "code",
   "execution_count": 24,
   "id": "3e2519c4-b79c-403f-9953-1179ac4cb885",
   "metadata": {},
   "outputs": [
    {
     "data": {
      "text/plain": [
       "True"
      ]
     },
     "execution_count": 24,
     "metadata": {},
     "output_type": "execute_result"
    }
   ],
   "source": [
    "l[4]"
   ]
  },
  {
   "cell_type": "code",
   "execution_count": 26,
   "id": "8165f124-a7ad-4744-9972-d984c11b21ba",
   "metadata": {},
   "outputs": [
    {
     "data": {
      "text/plain": [
       "'Tr'"
      ]
     },
     "execution_count": 26,
     "metadata": {},
     "output_type": "execute_result"
    }
   ],
   "source": [
    "str(l[4])[0:2]"
   ]
  },
  {
   "cell_type": "code",
   "execution_count": 5,
   "id": "b0f48e25-99d9-4891-ace3-ed3321c9dd7c",
   "metadata": {},
   "outputs": [
    {
     "ename": "NameError",
     "evalue": "name 'l' is not defined",
     "output_type": "error",
     "traceback": [
      "\u001b[0;31m---------------------------------------------------------------------------\u001b[0m",
      "\u001b[0;31mNameError\u001b[0m                                 Traceback (most recent call last)",
      "Cell \u001b[0;32mIn[5], line 1\u001b[0m\n\u001b[0;32m----> 1\u001b[0m \u001b[43ml\u001b[49m\n",
      "\u001b[0;31mNameError\u001b[0m: name 'l' is not defined"
     ]
    }
   ],
   "source": []
  },
  {
   "cell_type": "code",
   "execution_count": null,
   "id": "6cd2c5c7-ecd3-4689-b479-6fc1d7e27069",
   "metadata": {},
   "outputs": [],
   "source": []
  },
  {
   "cell_type": "code",
   "execution_count": 6,
   "id": "070e4e99-47e6-4716-90a5-f0b8b8f029d6",
   "metadata": {},
   "outputs": [],
   "source": [
    "l = [1,3345,45,\"sudh\",True,5+6j,123.1235]"
   ]
  },
  {
   "cell_type": "code",
   "execution_count": 7,
   "id": "c8cc1d61-a28f-44b7-a72b-a8060e0ec638",
   "metadata": {},
   "outputs": [
    {
     "data": {
      "text/plain": [
       "[1, 3345, 45, 'sudh', True, (5+6j), 123.1235]"
      ]
     },
     "execution_count": 7,
     "metadata": {},
     "output_type": "execute_result"
    }
   ],
   "source": [
    "l"
   ]
  },
  {
   "cell_type": "code",
   "execution_count": 9,
   "id": "eadca681-9f59-4a6d-83b1-aab551586efa",
   "metadata": {},
   "outputs": [
    {
     "data": {
      "text/plain": [
       "['b',\n",
       " 'a',\n",
       " 'l',\n",
       " 'k',\n",
       " 'r',\n",
       " 'i',\n",
       " 's',\n",
       " 'h',\n",
       " 'n',\n",
       " 'a',\n",
       " 1,\n",
       " 3345,\n",
       " 45,\n",
       " 'sudh',\n",
       " True,\n",
       " (5+6j),\n",
       " 123.1235]"
      ]
     },
     "execution_count": 9,
     "metadata": {},
     "output_type": "execute_result"
    }
   ],
   "source": [
    "list(\"balkrishna\") +l"
   ]
  },
  {
   "cell_type": "code",
   "execution_count": 12,
   "id": "cf5b8959-aa5d-4280-82bb-aea37933985b",
   "metadata": {},
   "outputs": [
    {
     "data": {
      "text/plain": [
       "['5', 1, 3345, 45, 'sudh', True, (5+6j), 123.1235]"
      ]
     },
     "execution_count": 12,
     "metadata": {},
     "output_type": "execute_result"
    }
   ],
   "source": [
    "list(\"5\") +l"
   ]
  },
  {
   "cell_type": "code",
   "execution_count": 20,
   "id": "5eb580b7-82a6-4420-91c4-baf1b1fce9af",
   "metadata": {},
   "outputs": [],
   "source": [
    "l1 =[412,2,23]"
   ]
  },
  {
   "cell_type": "code",
   "execution_count": 21,
   "id": "a25e5ace-719f-4ef4-9ca1-a645852f3aa7",
   "metadata": {},
   "outputs": [
    {
     "data": {
      "text/plain": [
       "[412, 2, 23, 1, 3345, 45, 'sudh', True, (5+6j), 123.1235]"
      ]
     },
     "execution_count": 21,
     "metadata": {},
     "output_type": "execute_result"
    }
   ],
   "source": [
    "l1+l\n",
    "    "
   ]
  },
  {
   "cell_type": "code",
   "execution_count": 19,
   "id": "5251203b-6eb2-4a11-83c8-dcb4c4e58fbc",
   "metadata": {},
   "outputs": [
    {
     "data": {
      "text/plain": [
       "[1, 3345, 45, 'sudh', True, (5+6j), 123.1235, 412, 2, 23]"
      ]
     },
     "execution_count": 19,
     "metadata": {},
     "output_type": "execute_result"
    }
   ],
   "source": [
    "l+l1\n",
    "\n",
    "\n",
    "\n"
   ]
  },
  {
   "cell_type": "code",
   "execution_count": 22,
   "id": "6a1bbc6d-805e-4781-8a34-963799bf259b",
   "metadata": {},
   "outputs": [
    {
     "data": {
      "text/plain": [
       "[1, 3345, 45, 'sudh', True, (5+6j), 123.1235, '5']"
      ]
     },
     "execution_count": 22,
     "metadata": {},
     "output_type": "execute_result"
    }
   ],
   "source": [
    "l+list('5')"
   ]
  },
  {
   "cell_type": "code",
   "execution_count": 1,
   "id": "081cb516-8f43-452a-8723-deff46651c97",
   "metadata": {},
   "outputs": [
    {
     "ename": "NameError",
     "evalue": "name 'l' is not defined",
     "output_type": "error",
     "traceback": [
      "\u001b[0;31m---------------------------------------------------------------------------\u001b[0m",
      "\u001b[0;31mNameError\u001b[0m                                 Traceback (most recent call last)",
      "Cell \u001b[0;32mIn[1], line 1\u001b[0m\n\u001b[0;32m----> 1\u001b[0m \u001b[43ml\u001b[49m\n",
      "\u001b[0;31mNameError\u001b[0m: name 'l' is not defined"
     ]
    }
   ],
   "source": []
  },
  {
   "cell_type": "code",
   "execution_count": null,
   "id": "b13ee406-7440-48bc-aefb-ff1e7c4c2e58",
   "metadata": {},
   "outputs": [],
   "source": []
  },
  {
   "cell_type": "code",
   "execution_count": 2,
   "id": "bcf9102f-0127-48d9-b9d7-b37cbe18a8fd",
   "metadata": {},
   "outputs": [],
   "source": [
    "l = [1,3345,45,\"sudh\",True,5+6j,123.1235]"
   ]
  },
  {
   "cell_type": "code",
   "execution_count": 3,
   "id": "cfe3a03d-3be9-4650-9699-1e70675b0458",
   "metadata": {},
   "outputs": [],
   "source": [
    "l1=[3,4,5]"
   ]
  },
  {
   "cell_type": "code",
   "execution_count": 4,
   "id": "13a30ede-5584-4cf7-94d6-ca9408663035",
   "metadata": {},
   "outputs": [],
   "source": [
    "l.append(5)"
   ]
  },
  {
   "cell_type": "code",
   "execution_count": 5,
   "id": "a97743a9-3f16-4aa3-a08f-d909d9220242",
   "metadata": {},
   "outputs": [
    {
     "data": {
      "text/plain": [
       "[1, 3345, 45, 'sudh', True, (5+6j), 123.1235, 5]"
      ]
     },
     "execution_count": 5,
     "metadata": {},
     "output_type": "execute_result"
    }
   ],
   "source": [
    "l"
   ]
  },
  {
   "cell_type": "code",
   "execution_count": 7,
   "id": "f9536faf-0afa-42ff-ba4f-436d4b02b8b0",
   "metadata": {},
   "outputs": [],
   "source": [
    "s=\"pwskill\""
   ]
  },
  {
   "cell_type": "code",
   "execution_count": 8,
   "id": "037a4e50-bb77-433f-a6c9-9dfc809bbf4f",
   "metadata": {},
   "outputs": [
    {
     "data": {
      "text/plain": [
       "[1, 3345, 45, 'sudh', True, (5+6j), 123.1235, 5]"
      ]
     },
     "execution_count": 8,
     "metadata": {},
     "output_type": "execute_result"
    }
   ],
   "source": [
    "l"
   ]
  },
  {
   "cell_type": "code",
   "execution_count": 9,
   "id": "8439c760-3d36-4521-87db-77ef332d2443",
   "metadata": {},
   "outputs": [],
   "source": [
    "l.append(s)"
   ]
  },
  {
   "cell_type": "code",
   "execution_count": 10,
   "id": "65dda9d3-53e5-433e-ae59-5d39b4a5fb63",
   "metadata": {},
   "outputs": [
    {
     "data": {
      "text/plain": [
       "[1, 3345, 45, 'sudh', True, (5+6j), 123.1235, 5, 'pwskill']"
      ]
     },
     "execution_count": 10,
     "metadata": {},
     "output_type": "execute_result"
    }
   ],
   "source": [
    "l\n"
   ]
  },
  {
   "cell_type": "code",
   "execution_count": 11,
   "id": "42f36adc-6078-4dcc-be6a-25e0c6694171",
   "metadata": {},
   "outputs": [],
   "source": [
    "l1=[3,2,6]"
   ]
  },
  {
   "cell_type": "code",
   "execution_count": 12,
   "id": "097b701f-b818-4862-a41e-4c67b19cf291",
   "metadata": {},
   "outputs": [],
   "source": [
    "l.append(l1)"
   ]
  },
  {
   "cell_type": "code",
   "execution_count": 13,
   "id": "741572f9-7485-46ca-9a9c-746e34993132",
   "metadata": {},
   "outputs": [
    {
     "data": {
      "text/plain": [
       "[1, 3345, 45, 'sudh', True, (5+6j), 123.1235, 5, 'pwskill', [3, 2, 6]]"
      ]
     },
     "execution_count": 13,
     "metadata": {},
     "output_type": "execute_result"
    }
   ],
   "source": [
    "l"
   ]
  },
  {
   "cell_type": "code",
   "execution_count": 14,
   "id": "f216ca65-a449-408a-8110-84d82056250d",
   "metadata": {},
   "outputs": [
    {
     "data": {
      "text/plain": [
       "[3, 2, 6, 1, 3345, 45, 'sudh', True, (5+6j), 123.1235, 5, 'pwskill', [3, 2, 6]]"
      ]
     },
     "execution_count": 14,
     "metadata": {},
     "output_type": "execute_result"
    }
   ],
   "source": [
    "l1 +l"
   ]
  },
  {
   "cell_type": "code",
   "execution_count": 18,
   "id": "2232e965-4e07-4988-a591-acdc2cd93fb0",
   "metadata": {},
   "outputs": [
    {
     "data": {
      "text/plain": [
       "[2, 3, 4, 1, 3345, 45, 'sudh', True, (5+6j), 123.1235, 5, 'pwskill', [3, 2, 6]]"
      ]
     },
     "execution_count": 18,
     "metadata": {},
     "output_type": "execute_result"
    }
   ],
   "source": [
    "list([2,3,4]) +l"
   ]
  },
  {
   "cell_type": "code",
   "execution_count": 19,
   "id": "48801e20-39bf-4085-9d67-18997e8b172a",
   "metadata": {},
   "outputs": [
    {
     "data": {
      "text/plain": [
       "'pwskill'"
      ]
     },
     "execution_count": 19,
     "metadata": {},
     "output_type": "execute_result"
    }
   ],
   "source": [
    "s"
   ]
  },
  {
   "cell_type": "code",
   "execution_count": 20,
   "id": "1fdb58e9-5b4e-409a-8b2c-dc4ee32d2c22",
   "metadata": {},
   "outputs": [
    {
     "data": {
      "text/plain": [
       "['p',\n",
       " 'w',\n",
       " 's',\n",
       " 'k',\n",
       " 'i',\n",
       " 'l',\n",
       " 'l',\n",
       " 1,\n",
       " 3345,\n",
       " 45,\n",
       " 'sudh',\n",
       " True,\n",
       " (5+6j),\n",
       " 123.1235,\n",
       " 5,\n",
       " 'pwskill',\n",
       " [3, 2, 6]]"
      ]
     },
     "execution_count": 20,
     "metadata": {},
     "output_type": "execute_result"
    }
   ],
   "source": [
    "list(s)+l"
   ]
  },
  {
   "cell_type": "code",
   "execution_count": 21,
   "id": "97b6c80e-a6f3-4af5-83a3-f58562c12385",
   "metadata": {},
   "outputs": [
    {
     "data": {
      "text/plain": [
       "[1, 3345, 45, 'sudh', True, (5+6j), 123.1235, 5, 'pwskill', [3, 2, 6]]"
      ]
     },
     "execution_count": 21,
     "metadata": {},
     "output_type": "execute_result"
    }
   ],
   "source": [
    "l"
   ]
  },
  {
   "cell_type": "code",
   "execution_count": 22,
   "id": "870d24b0-7e7b-4e12-ba5d-9b9ba450317c",
   "metadata": {},
   "outputs": [
    {
     "data": {
      "text/plain": [
       "6"
      ]
     },
     "execution_count": 22,
     "metadata": {},
     "output_type": "execute_result"
    }
   ],
   "source": [
    "l[-1][2]"
   ]
  },
  {
   "cell_type": "code",
   "execution_count": 23,
   "id": "bcf59612-6e88-4b47-a6dc-db4bead0874a",
   "metadata": {},
   "outputs": [
    {
     "data": {
      "text/plain": [
       "'KI'"
      ]
     },
     "execution_count": 23,
     "metadata": {},
     "output_type": "execute_result"
    }
   ],
   "source": [
    "l[-2][3:5].upper()"
   ]
  },
  {
   "cell_type": "code",
   "execution_count": null,
   "id": "5e893c34-a9b2-4928-b12b-d01e339a456a",
   "metadata": {},
   "outputs": [],
   "source": []
  }
 ],
 "metadata": {
  "kernelspec": {
   "display_name": "Python 3 (ipykernel)",
   "language": "python",
   "name": "python3"
  },
  "language_info": {
   "codemirror_mode": {
    "name": "ipython",
    "version": 3
   },
   "file_extension": ".py",
   "mimetype": "text/x-python",
   "name": "python",
   "nbconvert_exporter": "python",
   "pygments_lexer": "ipython3",
   "version": "3.10.8"
  }
 },
 "nbformat": 4,
 "nbformat_minor": 5
}
